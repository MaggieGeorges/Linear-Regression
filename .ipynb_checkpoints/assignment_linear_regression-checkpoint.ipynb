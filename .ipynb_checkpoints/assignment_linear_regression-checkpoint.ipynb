{
 "cells": [
  {
   "cell_type": "code",
   "execution_count": 1,
   "id": "fa60add9",
   "metadata": {},
   "outputs": [],
   "source": [
    "#importing the required libraries using pyforest\n",
    "import pyforest"
   ]
  },
  {
   "cell_type": "code",
   "execution_count": 2,
   "id": "81fa439d",
   "metadata": {},
   "outputs": [
    {
     "ename": "NameError",
     "evalue": "name 'x_linear' is not defined",
     "output_type": "error",
     "traceback": [
      "\u001b[1;31m---------------------------------------------------------------------------\u001b[0m",
      "\u001b[1;31mNameError\u001b[0m                                 Traceback (most recent call last)",
      "\u001b[1;32m~\\AppData\\Local\\Temp/ipykernel_13356/2053851.py\u001b[0m in \u001b[0;36m<module>\u001b[1;34m\u001b[0m\n\u001b[1;32m----> 1\u001b[1;33m \u001b[0my_linear\u001b[0m \u001b[1;33m=\u001b[0m \u001b[1;36m2\u001b[0m \u001b[1;33m*\u001b[0m \u001b[0mx_linear\u001b[0m \u001b[1;33m+\u001b[0m \u001b[1;36m1\u001b[0m \u001b[1;33m+\u001b[0m \u001b[0mnp\u001b[0m\u001b[1;33m.\u001b[0m\u001b[0mrandom\u001b[0m\u001b[1;33m.\u001b[0m\u001b[0mrand\u001b[0m\u001b[1;33m(\u001b[0m\u001b[1;36m100\u001b[0m\u001b[1;33m)\u001b[0m\u001b[1;33m\u001b[0m\u001b[1;33m\u001b[0m\u001b[0m\n\u001b[0m\u001b[0;32m      2\u001b[0m \u001b[0my_linear\u001b[0m\u001b[1;33m.\u001b[0m\u001b[0mshape\u001b[0m\u001b[1;33m\u001b[0m\u001b[1;33m\u001b[0m\u001b[0m\n",
      "\u001b[1;31mNameError\u001b[0m: name 'x_linear' is not defined"
     ]
    }
   ],
   "source": [
    "y_linear = 2 * x_linear + 1 + np.random.rand(100)\n",
    "y_linear.shape"
   ]
  },
  {
   "cell_type": "code",
   "execution_count": null,
   "id": "182d4e2c",
   "metadata": {},
   "outputs": [],
   "source": [
    "#generating data randomly\n",
    "x_linear = np.random.rand(100)\n",
    "y_linear = 2 * x_linear + 1 + np.random.rand(100)\n",
    "print(x_linear)"
   ]
  },
  {
   "cell_type": "code",
   "execution_count": null,
   "id": "f66cc67d",
   "metadata": {},
   "outputs": [],
   "source": [
    "print(y_linear)"
   ]
  },
  {
   "cell_type": "code",
   "execution_count": null,
   "id": "8d97f2bd",
   "metadata": {},
   "outputs": [],
   "source": [
    "# Creating a Pandas DataFrame with two columns\n",
    "df = pd.DataFrame({'X': x_linear, 'Y': y_linear})\n",
    "df.head()\n"
   ]
  },
  {
   "cell_type": "markdown",
   "id": "601eeb51",
   "metadata": {},
   "source": [
    "# Data visualization"
   ]
  },
  {
   "cell_type": "code",
   "execution_count": null,
   "id": "a1dd6638",
   "metadata": {},
   "outputs": [],
   "source": [
    "#drawing the scatter plot\n",
    "import matplotlib.pyplot as plt\n",
    "from sklearn.linear_model import LinearRegression\n",
    "plt.scatter(x_linear, y_linear )\n",
    "plt.xlabel('X')\n",
    "plt.ylabel('Y')\n",
    "plt.title('Linear Regression ScatterPlot')\n",
    "plt.show()\n"
   ]
  },
  {
   "cell_type": "markdown",
   "id": "966224f1",
   "metadata": {},
   "source": [
    "# splitting the data"
   ]
  },
  {
   "cell_type": "code",
   "execution_count": null,
   "id": "f6891be1",
   "metadata": {},
   "outputs": [],
   "source": [
    "from sklearn.model_selection  import train_test_split\n",
    "from sklearn.linear_model import LinearRegression"
   ]
  },
  {
   "cell_type": "code",
   "execution_count": null,
   "id": "4a24da7f",
   "metadata": {},
   "outputs": [],
   "source": [
    "#splitting  the independent and dependent variables\n",
    "x=df.drop(['Y'],axis=1)\n",
    "y=df[\"Y\"]"
   ]
  },
  {
   "cell_type": "code",
   "execution_count": null,
   "id": "0b28ffcf",
   "metadata": {},
   "outputs": [],
   "source": [
    "x_train,x_test,y_train,y_test=train_test_split(x,y,test_size=0.2)\n"
   ]
  },
  {
   "cell_type": "markdown",
   "id": "12995b10",
   "metadata": {},
   "source": [
    "# Building the model"
   ]
  },
  {
   "cell_type": "code",
   "execution_count": null,
   "id": "7a565789",
   "metadata": {},
   "outputs": [],
   "source": [
    "#usng linearRegression\n",
    "model=LinearRegression()"
   ]
  },
  {
   "cell_type": "code",
   "execution_count": null,
   "id": "016b3ab0",
   "metadata": {},
   "outputs": [],
   "source": [
    "#fitting the model\n",
    "model.fit(x_train,y_train)"
   ]
  },
  {
   "cell_type": "markdown",
   "id": "7822522b",
   "metadata": {},
   "source": [
    "# evaluating the performance of the model"
   ]
  },
  {
   "cell_type": "code",
   "execution_count": null,
   "id": "cbde550c",
   "metadata": {},
   "outputs": [],
   "source": [
    "pred=model.predict(x_test)"
   ]
  },
  {
   "cell_type": "code",
   "execution_count": null,
   "id": "2ec597b4",
   "metadata": {},
   "outputs": [],
   "source": [
    "from sklearn.metrics import  r2_score\n",
    "evaluate=r2_score(y_test,pred)\n",
    "print(evaluate)"
   ]
  },
  {
   "cell_type": "markdown",
   "id": "c0ac3a6e",
   "metadata": {},
   "source": [
    "# part 2"
   ]
  },
  {
   "cell_type": "code",
   "execution_count": 3,
   "id": "2882c0fe",
   "metadata": {},
   "outputs": [
    {
     "data": {
      "text/plain": [
       "array([[0.16465356, 0.76175674, 0.40623114, 0.32406817, 0.49549467,\n",
       "        0.56240481, 0.08874696, 0.38568763, 0.97886202, 0.12623417],\n",
       "       [0.4441777 , 0.68750279, 0.9241094 , 0.10451828, 0.92845056,\n",
       "        0.77673467, 0.23601759, 0.26671729, 0.23795969, 0.86768674],\n",
       "       [0.29186717, 0.96693477, 0.33516459, 0.23820568, 0.99538599,\n",
       "        0.21219579, 0.40796138, 0.07566466, 0.30138163, 0.04365892],\n",
       "       [0.69456836, 0.33102085, 0.84898282, 0.00354056, 0.25297644,\n",
       "        0.72903588, 0.43941593, 0.72528204, 0.70296099, 0.26503769],\n",
       "       [0.23202545, 0.8923746 , 0.07376189, 0.05560206, 0.47813355,\n",
       "        0.22172098, 0.59182119, 0.97172757, 0.34215789, 0.06618567],\n",
       "       [0.30920118, 0.05490879, 0.58752173, 0.48782768, 0.92887596,\n",
       "        0.41414627, 0.64773811, 0.07517398, 0.1315945 , 0.45736365],\n",
       "       [0.73976546, 0.21347299, 0.23422729, 0.44868871, 0.33973782,\n",
       "        0.36347438, 0.60367776, 0.81770298, 0.86954304, 0.36474835],\n",
       "       [0.71213936, 0.76305541, 0.34325386, 0.51045985, 0.98717064,\n",
       "        0.12416828, 0.81716234, 0.96718627, 0.94409031, 0.31785986],\n",
       "       [0.19444622, 0.19689685, 0.74395126, 0.88262722, 0.58395815,\n",
       "        0.92928853, 0.40668451, 0.32089204, 0.179023  , 0.76725834],\n",
       "       [0.08384909, 0.01614261, 0.56076028, 0.2510717 , 0.88586599,\n",
       "        0.08994735, 0.8816572 , 0.95033825, 0.52705904, 0.54594633]])"
      ]
     },
     "execution_count": 3,
     "metadata": {},
     "output_type": "execute_result"
    }
   ],
   "source": [
    "import numpy as np\n",
    "\n",
    "# Generate random data\n",
    "random_data = np.random.rand(10, 10)\n",
    "random_data"
   ]
  },
  {
   "cell_type": "code",
   "execution_count": 4,
   "id": "8affa77f",
   "metadata": {},
   "outputs": [
    {
     "data": {
      "application/javascript": [
       "\n",
       "        if (window._pyforest_update_imports_cell) { window._pyforest_update_imports_cell('import pandas as pd'); }\n",
       "    "
      ],
      "text/plain": [
       "<IPython.core.display.Javascript object>"
      ]
     },
     "metadata": {},
     "output_type": "display_data"
    },
    {
     "data": {
      "text/html": [
       "<div>\n",
       "<style scoped>\n",
       "    .dataframe tbody tr th:only-of-type {\n",
       "        vertical-align: middle;\n",
       "    }\n",
       "\n",
       "    .dataframe tbody tr th {\n",
       "        vertical-align: top;\n",
       "    }\n",
       "\n",
       "    .dataframe thead th {\n",
       "        text-align: right;\n",
       "    }\n",
       "</style>\n",
       "<table border=\"1\" class=\"dataframe\">\n",
       "  <thead>\n",
       "    <tr style=\"text-align: right;\">\n",
       "      <th></th>\n",
       "      <th>0</th>\n",
       "      <th>1</th>\n",
       "      <th>2</th>\n",
       "      <th>3</th>\n",
       "      <th>4</th>\n",
       "      <th>5</th>\n",
       "      <th>6</th>\n",
       "      <th>7</th>\n",
       "      <th>8</th>\n",
       "      <th>9</th>\n",
       "    </tr>\n",
       "  </thead>\n",
       "  <tbody>\n",
       "    <tr>\n",
       "      <th>0</th>\n",
       "      <td>0.164654</td>\n",
       "      <td>0.761757</td>\n",
       "      <td>0.406231</td>\n",
       "      <td>0.324068</td>\n",
       "      <td>0.495495</td>\n",
       "      <td>0.562405</td>\n",
       "      <td>0.088747</td>\n",
       "      <td>0.385688</td>\n",
       "      <td>0.978862</td>\n",
       "      <td>0.126234</td>\n",
       "    </tr>\n",
       "    <tr>\n",
       "      <th>1</th>\n",
       "      <td>0.444178</td>\n",
       "      <td>0.687503</td>\n",
       "      <td>0.924109</td>\n",
       "      <td>0.104518</td>\n",
       "      <td>0.928451</td>\n",
       "      <td>0.776735</td>\n",
       "      <td>0.236018</td>\n",
       "      <td>0.266717</td>\n",
       "      <td>0.237960</td>\n",
       "      <td>0.867687</td>\n",
       "    </tr>\n",
       "    <tr>\n",
       "      <th>2</th>\n",
       "      <td>0.291867</td>\n",
       "      <td>0.966935</td>\n",
       "      <td>0.335165</td>\n",
       "      <td>0.238206</td>\n",
       "      <td>0.995386</td>\n",
       "      <td>0.212196</td>\n",
       "      <td>0.407961</td>\n",
       "      <td>0.075665</td>\n",
       "      <td>0.301382</td>\n",
       "      <td>0.043659</td>\n",
       "    </tr>\n",
       "    <tr>\n",
       "      <th>3</th>\n",
       "      <td>0.694568</td>\n",
       "      <td>0.331021</td>\n",
       "      <td>0.848983</td>\n",
       "      <td>0.003541</td>\n",
       "      <td>0.252976</td>\n",
       "      <td>0.729036</td>\n",
       "      <td>0.439416</td>\n",
       "      <td>0.725282</td>\n",
       "      <td>0.702961</td>\n",
       "      <td>0.265038</td>\n",
       "    </tr>\n",
       "    <tr>\n",
       "      <th>4</th>\n",
       "      <td>0.232025</td>\n",
       "      <td>0.892375</td>\n",
       "      <td>0.073762</td>\n",
       "      <td>0.055602</td>\n",
       "      <td>0.478134</td>\n",
       "      <td>0.221721</td>\n",
       "      <td>0.591821</td>\n",
       "      <td>0.971728</td>\n",
       "      <td>0.342158</td>\n",
       "      <td>0.066186</td>\n",
       "    </tr>\n",
       "  </tbody>\n",
       "</table>\n",
       "</div>"
      ],
      "text/plain": [
       "          0         1         2         3         4         5         6  \\\n",
       "0  0.164654  0.761757  0.406231  0.324068  0.495495  0.562405  0.088747   \n",
       "1  0.444178  0.687503  0.924109  0.104518  0.928451  0.776735  0.236018   \n",
       "2  0.291867  0.966935  0.335165  0.238206  0.995386  0.212196  0.407961   \n",
       "3  0.694568  0.331021  0.848983  0.003541  0.252976  0.729036  0.439416   \n",
       "4  0.232025  0.892375  0.073762  0.055602  0.478134  0.221721  0.591821   \n",
       "\n",
       "          7         8         9  \n",
       "0  0.385688  0.978862  0.126234  \n",
       "1  0.266717  0.237960  0.867687  \n",
       "2  0.075665  0.301382  0.043659  \n",
       "3  0.725282  0.702961  0.265038  \n",
       "4  0.971728  0.342158  0.066186  "
      ]
     },
     "execution_count": 4,
     "metadata": {},
     "output_type": "execute_result"
    }
   ],
   "source": [
    "# Creating a Pandas DataFrame with two columns\n",
    "df = pd.DataFrame(random_data)\n",
    "#getting the first five rows\n",
    "df.head()\n"
   ]
  },
  {
   "cell_type": "code",
   "execution_count": 5,
   "id": "7dffe0d3",
   "metadata": {},
   "outputs": [
    {
     "data": {
      "text/html": [
       "<div>\n",
       "<style scoped>\n",
       "    .dataframe tbody tr th:only-of-type {\n",
       "        vertical-align: middle;\n",
       "    }\n",
       "\n",
       "    .dataframe tbody tr th {\n",
       "        vertical-align: top;\n",
       "    }\n",
       "\n",
       "    .dataframe thead th {\n",
       "        text-align: right;\n",
       "    }\n",
       "</style>\n",
       "<table border=\"1\" class=\"dataframe\">\n",
       "  <thead>\n",
       "    <tr style=\"text-align: right;\">\n",
       "      <th></th>\n",
       "      <th>0</th>\n",
       "      <th>1</th>\n",
       "      <th>2</th>\n",
       "      <th>3</th>\n",
       "      <th>4</th>\n",
       "      <th>5</th>\n",
       "      <th>6</th>\n",
       "      <th>7</th>\n",
       "      <th>8</th>\n",
       "      <th>9</th>\n",
       "    </tr>\n",
       "  </thead>\n",
       "  <tbody>\n",
       "    <tr>\n",
       "      <th>5</th>\n",
       "      <td>0.309201</td>\n",
       "      <td>0.054909</td>\n",
       "      <td>0.587522</td>\n",
       "      <td>0.487828</td>\n",
       "      <td>0.928876</td>\n",
       "      <td>0.414146</td>\n",
       "      <td>0.647738</td>\n",
       "      <td>0.075174</td>\n",
       "      <td>0.131594</td>\n",
       "      <td>0.457364</td>\n",
       "    </tr>\n",
       "    <tr>\n",
       "      <th>6</th>\n",
       "      <td>0.739765</td>\n",
       "      <td>0.213473</td>\n",
       "      <td>0.234227</td>\n",
       "      <td>0.448689</td>\n",
       "      <td>0.339738</td>\n",
       "      <td>0.363474</td>\n",
       "      <td>0.603678</td>\n",
       "      <td>0.817703</td>\n",
       "      <td>0.869543</td>\n",
       "      <td>0.364748</td>\n",
       "    </tr>\n",
       "    <tr>\n",
       "      <th>7</th>\n",
       "      <td>0.712139</td>\n",
       "      <td>0.763055</td>\n",
       "      <td>0.343254</td>\n",
       "      <td>0.510460</td>\n",
       "      <td>0.987171</td>\n",
       "      <td>0.124168</td>\n",
       "      <td>0.817162</td>\n",
       "      <td>0.967186</td>\n",
       "      <td>0.944090</td>\n",
       "      <td>0.317860</td>\n",
       "    </tr>\n",
       "    <tr>\n",
       "      <th>8</th>\n",
       "      <td>0.194446</td>\n",
       "      <td>0.196897</td>\n",
       "      <td>0.743951</td>\n",
       "      <td>0.882627</td>\n",
       "      <td>0.583958</td>\n",
       "      <td>0.929289</td>\n",
       "      <td>0.406685</td>\n",
       "      <td>0.320892</td>\n",
       "      <td>0.179023</td>\n",
       "      <td>0.767258</td>\n",
       "    </tr>\n",
       "    <tr>\n",
       "      <th>9</th>\n",
       "      <td>0.083849</td>\n",
       "      <td>0.016143</td>\n",
       "      <td>0.560760</td>\n",
       "      <td>0.251072</td>\n",
       "      <td>0.885866</td>\n",
       "      <td>0.089947</td>\n",
       "      <td>0.881657</td>\n",
       "      <td>0.950338</td>\n",
       "      <td>0.527059</td>\n",
       "      <td>0.545946</td>\n",
       "    </tr>\n",
       "  </tbody>\n",
       "</table>\n",
       "</div>"
      ],
      "text/plain": [
       "          0         1         2         3         4         5         6  \\\n",
       "5  0.309201  0.054909  0.587522  0.487828  0.928876  0.414146  0.647738   \n",
       "6  0.739765  0.213473  0.234227  0.448689  0.339738  0.363474  0.603678   \n",
       "7  0.712139  0.763055  0.343254  0.510460  0.987171  0.124168  0.817162   \n",
       "8  0.194446  0.196897  0.743951  0.882627  0.583958  0.929289  0.406685   \n",
       "9  0.083849  0.016143  0.560760  0.251072  0.885866  0.089947  0.881657   \n",
       "\n",
       "          7         8         9  \n",
       "5  0.075174  0.131594  0.457364  \n",
       "6  0.817703  0.869543  0.364748  \n",
       "7  0.967186  0.944090  0.317860  \n",
       "8  0.320892  0.179023  0.767258  \n",
       "9  0.950338  0.527059  0.545946  "
      ]
     },
     "execution_count": 5,
     "metadata": {},
     "output_type": "execute_result"
    }
   ],
   "source": [
    "#getting the last five rows\n",
    "df.tail()"
   ]
  },
  {
   "cell_type": "code",
   "execution_count": 6,
   "id": "6a81ade5",
   "metadata": {},
   "outputs": [],
   "source": [
    "#renaming the columns\n",
    "new_column_names = [\"col_0\", \"col_1\", \"col_2\", \"col_3\", \"col_4\", \"col_5\", \"col_6\", \"col_7\", \"col_8\", \"col_9\"]\n",
    "df.columns = new_column_names"
   ]
  },
  {
   "cell_type": "code",
   "execution_count": 7,
   "id": "c70693df",
   "metadata": {},
   "outputs": [
    {
     "data": {
      "text/html": [
       "<div>\n",
       "<style scoped>\n",
       "    .dataframe tbody tr th:only-of-type {\n",
       "        vertical-align: middle;\n",
       "    }\n",
       "\n",
       "    .dataframe tbody tr th {\n",
       "        vertical-align: top;\n",
       "    }\n",
       "\n",
       "    .dataframe thead th {\n",
       "        text-align: right;\n",
       "    }\n",
       "</style>\n",
       "<table border=\"1\" class=\"dataframe\">\n",
       "  <thead>\n",
       "    <tr style=\"text-align: right;\">\n",
       "      <th></th>\n",
       "      <th>col_0</th>\n",
       "      <th>col_1</th>\n",
       "      <th>col_2</th>\n",
       "      <th>col_3</th>\n",
       "      <th>col_4</th>\n",
       "      <th>col_5</th>\n",
       "      <th>col_6</th>\n",
       "      <th>col_7</th>\n",
       "      <th>col_8</th>\n",
       "      <th>col_9</th>\n",
       "    </tr>\n",
       "  </thead>\n",
       "  <tbody>\n",
       "    <tr>\n",
       "      <th>0</th>\n",
       "      <td>0.164654</td>\n",
       "      <td>0.761757</td>\n",
       "      <td>0.406231</td>\n",
       "      <td>0.324068</td>\n",
       "      <td>0.495495</td>\n",
       "      <td>0.562405</td>\n",
       "      <td>0.088747</td>\n",
       "      <td>0.385688</td>\n",
       "      <td>0.978862</td>\n",
       "      <td>0.126234</td>\n",
       "    </tr>\n",
       "    <tr>\n",
       "      <th>1</th>\n",
       "      <td>0.444178</td>\n",
       "      <td>0.687503</td>\n",
       "      <td>0.924109</td>\n",
       "      <td>0.104518</td>\n",
       "      <td>0.928451</td>\n",
       "      <td>0.776735</td>\n",
       "      <td>0.236018</td>\n",
       "      <td>0.266717</td>\n",
       "      <td>0.237960</td>\n",
       "      <td>0.867687</td>\n",
       "    </tr>\n",
       "    <tr>\n",
       "      <th>2</th>\n",
       "      <td>0.291867</td>\n",
       "      <td>0.966935</td>\n",
       "      <td>0.335165</td>\n",
       "      <td>0.238206</td>\n",
       "      <td>0.995386</td>\n",
       "      <td>0.212196</td>\n",
       "      <td>0.407961</td>\n",
       "      <td>0.075665</td>\n",
       "      <td>0.301382</td>\n",
       "      <td>0.043659</td>\n",
       "    </tr>\n",
       "    <tr>\n",
       "      <th>3</th>\n",
       "      <td>0.694568</td>\n",
       "      <td>0.331021</td>\n",
       "      <td>0.848983</td>\n",
       "      <td>0.003541</td>\n",
       "      <td>0.252976</td>\n",
       "      <td>0.729036</td>\n",
       "      <td>0.439416</td>\n",
       "      <td>0.725282</td>\n",
       "      <td>0.702961</td>\n",
       "      <td>0.265038</td>\n",
       "    </tr>\n",
       "    <tr>\n",
       "      <th>4</th>\n",
       "      <td>0.232025</td>\n",
       "      <td>0.892375</td>\n",
       "      <td>0.073762</td>\n",
       "      <td>0.055602</td>\n",
       "      <td>0.478134</td>\n",
       "      <td>0.221721</td>\n",
       "      <td>0.591821</td>\n",
       "      <td>0.971728</td>\n",
       "      <td>0.342158</td>\n",
       "      <td>0.066186</td>\n",
       "    </tr>\n",
       "  </tbody>\n",
       "</table>\n",
       "</div>"
      ],
      "text/plain": [
       "      col_0     col_1     col_2     col_3     col_4     col_5     col_6  \\\n",
       "0  0.164654  0.761757  0.406231  0.324068  0.495495  0.562405  0.088747   \n",
       "1  0.444178  0.687503  0.924109  0.104518  0.928451  0.776735  0.236018   \n",
       "2  0.291867  0.966935  0.335165  0.238206  0.995386  0.212196  0.407961   \n",
       "3  0.694568  0.331021  0.848983  0.003541  0.252976  0.729036  0.439416   \n",
       "4  0.232025  0.892375  0.073762  0.055602  0.478134  0.221721  0.591821   \n",
       "\n",
       "      col_7     col_8     col_9  \n",
       "0  0.385688  0.978862  0.126234  \n",
       "1  0.266717  0.237960  0.867687  \n",
       "2  0.075665  0.301382  0.043659  \n",
       "3  0.725282  0.702961  0.265038  \n",
       "4  0.971728  0.342158  0.066186  "
      ]
     },
     "execution_count": 7,
     "metadata": {},
     "output_type": "execute_result"
    }
   ],
   "source": [
    "df.head()"
   ]
  },
  {
   "cell_type": "code",
   "execution_count": 8,
   "id": "e66dce62",
   "metadata": {},
   "outputs": [
    {
     "data": {
      "image/png": "[encoded data removed]",
      "text/plain": [
       "<Figure size 432x288 with 2 Axes>"
      ]
     },
     "metadata": {
      "needs_background": "light"
     },
     "output_type": "display_data"
    }
   ],
   "source": [
    "import matplotlib.pyplot as plt\n",
    "\n",
    "# Create a heatmap\n",
    "plt.imshow(df, cmap='viridis')\n",
    "plt.colorbar() \n",
    "plt.show()\n"
   ]
  },
  {
   "cell_type": "markdown",
   "id": "c11f9692",
   "metadata": {},
   "source": [
    "# splitting the data"
   ]
  },
  {
   "cell_type": "code",
   "execution_count": 9,
   "id": "bb7aaf2a",
   "metadata": {},
   "outputs": [],
   "source": [
    "x=df.drop([\"col_9\"],axis=1)\n",
    "y=df[\"col_9\"]"
   ]
  },
  {
   "cell_type": "code",
   "execution_count": 10,
   "id": "cc11623d",
   "metadata": {},
   "outputs": [
    {
     "name": "stdout",
     "output_type": "stream",
     "text": [
      "(10, 9)\n"
     ]
    }
   ],
   "source": [
    "print(x.shape)"
   ]
  },
  {
   "cell_type": "code",
   "execution_count": 11,
   "id": "79b8451c",
   "metadata": {},
   "outputs": [
    {
     "name": "stdout",
     "output_type": "stream",
     "text": [
      "(10,)\n"
     ]
    }
   ],
   "source": [
    "print(y.shape)"
   ]
  },
  {
   "cell_type": "code",
   "execution_count": 12,
   "id": "e54b074d",
   "metadata": {},
   "outputs": [],
   "source": [
    "from sklearn.model_selection import train_test_split\n",
    "from sklearn.tree import DecisionTreeRegressor\n"
   ]
  },
  {
   "cell_type": "code",
   "execution_count": 13,
   "id": "ae7a24de",
   "metadata": {},
   "outputs": [],
   "source": [
    "x_train,x_test,y_train,y_test=train_test_split(x,y,test_size=0.2)"
   ]
  },
  {
   "cell_type": "code",
   "execution_count": 14,
   "id": "de657f0b",
   "metadata": {},
   "outputs": [],
   "source": [
    "model2=DecisionTreeRegressor()"
   ]
  },
  {
   "cell_type": "code",
   "execution_count": 15,
   "id": "0623959c",
   "metadata": {},
   "outputs": [
    {
     "data": {
      "text/plain": [
       "DecisionTreeRegressor()"
      ]
     },
     "execution_count": 15,
     "metadata": {},
     "output_type": "execute_result"
    }
   ],
   "source": [
    "model2.fit(x_train,y_train)"
   ]
  },
  {
   "cell_type": "code",
   "execution_count": 16,
   "id": "f64fa521",
   "metadata": {},
   "outputs": [],
   "source": [
    "pred2=model2.predict(x_test)"
   ]
  },
  {
   "cell_type": "code",
   "execution_count": 17,
   "id": "a9a3d7d2",
   "metadata": {},
   "outputs": [
    {
     "name": "stdout",
     "output_type": "stream",
     "text": [
      "-354.5817679621592\n"
     ]
    }
   ],
   "source": [
    "from sklearn.metrics import  r2_score\n",
    "evaluate=r2_score(y_test,pred2)\n",
    "print(evaluate)\n"
   ]
  },
  {
   "cell_type": "code",
   "execution_count": null,
   "id": "9c1256f8",
   "metadata": {},
   "outputs": [],
   "source": []
  }
 ],
 "metadata": {
  "kernelspec": {
   "display_name": "Python 3 (ipykernel)",
   "language": "python",
   "name": "python3"
  },
  "language_info": {
   "codemirror_mode": {
    "name": "ipython",
    "version": 3
   },
   "file_extension": ".py",
   "mimetype": "text/x-python",
   "name": "python",
   "nbconvert_exporter": "python",
   "pygments_lexer": "ipython3",
   "version": "3.9.12"
  }
 },
 "nbformat": 4,
 "nbformat_minor": 5
}
